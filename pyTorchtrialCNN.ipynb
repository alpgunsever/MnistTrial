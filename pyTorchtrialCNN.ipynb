{
 "cells": [
  {
   "cell_type": "code",
   "execution_count": 104,
   "id": "a9801bf2-32cf-45b7-b4b0-6ae4619697eb",
   "metadata": {},
   "outputs": [],
   "source": [
    "# import pyTorch\n",
    "import torch\n",
    "from torch import nn\n",
    "\n",
    "# import torchVision\n",
    "import torchvision\n",
    "from torchvision import datasets\n",
    "from torchvision.transforms import ToTensor\n",
    "\n",
    "# import DataLoader\n",
    "from torch.utils.data import DataLoader\n",
    "\n",
    "# import other packages\n",
    "import pandas as pd\n",
    "import matplotlib.pyplot as plt\n",
    "from timeit import default_timer as timer \n",
    "from tqdm.auto import tqdm"
   ]
  },
  {
   "cell_type": "code",
   "execution_count": 4,
   "id": "55442700-36ec-41a3-b865-8354ecfb8531",
   "metadata": {},
   "outputs": [],
   "source": [
    "# Load MNIST dataset\n",
    "trainData = datasets.MNIST(\n",
    "    root = \"data\",\n",
    "    train = True,\n",
    "    download = True,\n",
    "    transform = ToTensor()\n",
    ")\n",
    "\n",
    "testData = datasets.MNIST(\n",
    "    root = \"data\",\n",
    "    train = False,\n",
    "    download = True,\n",
    "    transform = ToTensor()\n",
    ")"
   ]
  },
  {
   "cell_type": "code",
   "execution_count": 6,
   "id": "51aeeecf-8a2b-4728-a10d-c56c9239a0ec",
   "metadata": {},
   "outputs": [
    {
     "data": {
      "text/plain": [
       "torch.Size([1, 28, 28])"
      ]
     },
     "execution_count": 6,
     "metadata": {},
     "output_type": "execute_result"
    }
   ],
   "source": [
    "# Check data\n",
    "image, label = trainData[0]\n",
    "image.shape"
   ]
  },
  {
   "cell_type": "code",
   "execution_count": 8,
   "id": "c1da1e77-39d2-4338-aba8-5e3c0957f3ae",
   "metadata": {},
   "outputs": [
    {
     "data": {
      "text/plain": [
       "(60000, 60000, 10000, 10000)"
      ]
     },
     "execution_count": 8,
     "metadata": {},
     "output_type": "execute_result"
    }
   ],
   "source": [
    "len(trainData.data), len(trainData.targets), len(testData.data), len(testData.targets)"
   ]
  },
  {
   "cell_type": "code",
   "execution_count": 12,
   "id": "dc2ce8ff-1bf0-4270-be8c-cbbe1808c91b",
   "metadata": {},
   "outputs": [
    {
     "data": {
      "text/plain": [
       "['0 - zero',\n",
       " '1 - one',\n",
       " '2 - two',\n",
       " '3 - three',\n",
       " '4 - four',\n",
       " '5 - five',\n",
       " '6 - six',\n",
       " '7 - seven',\n",
       " '8 - eight',\n",
       " '9 - nine']"
      ]
     },
     "execution_count": 12,
     "metadata": {},
     "output_type": "execute_result"
    }
   ],
   "source": [
    "classNames = trainData.classes\n",
    "classNames"
   ]
  },
  {
   "cell_type": "code",
   "execution_count": 14,
   "id": "9511139e-f962-4c4c-8523-859201f65eb2",
   "metadata": {},
   "outputs": [
    {
     "data": {
      "text/plain": [
       "Text(0.5, 1.0, '5')"
      ]
     },
     "execution_count": 14,
     "metadata": {},
     "output_type": "execute_result"
    },
    {
     "data": {
      "image/png": "[encoded data removed]",
      "text/plain": [
       "<Figure size 640x480 with 1 Axes>"
      ]
     },
     "metadata": {},
     "output_type": "display_data"
    }
   ],
   "source": [
    "# Visualize image\n",
    "plt.imshow(image.squeeze())\n",
    "plt.title(label)"
   ]
  },
  {
   "cell_type": "code",
   "execution_count": 64,
   "id": "cdccfaa1-7d6c-4f30-b245-4784dc2a94eb",
   "metadata": {},
   "outputs": [
    {
     "name": "stdout",
     "output_type": "stream",
     "text": [
      "DataLoader for training set: 118 batches of 512\n",
      "DataLoader for test set: 20 batches of 512\n"
     ]
    }
   ],
   "source": [
    "# Prepare data loader\n",
    "batchSize = 512\n",
    "trainDataLoader = DataLoader(trainData, batch_size= batchSize, shuffle = True)\n",
    "testDataLoader = DataLoader(testData, batch_size = batchSize, shuffle = True)\n",
    "\n",
    "print(f\"DataLoader for training set: {len(trainDataLoader)} batches of {batchSize}\")\n",
    "print(f\"DataLoader for test set: {len(testDataLoader)} batches of {batchSize}\")"
   ]
  },
  {
   "cell_type": "code",
   "execution_count": 18,
   "id": "06538dd8-8c0a-4700-bff2-34bf256efce1",
   "metadata": {},
   "outputs": [
    {
     "data": {
      "text/plain": [
       "Text(0.5, 1.0, '7 - seven')"
      ]
     },
     "execution_count": 18,
     "metadata": {},
     "output_type": "execute_result"
    },
    {
     "data": {
      "image/png": "[encoded data removed]",
      "text/plain": [
       "<Figure size 640x480 with 1 Axes>"
      ]
     },
     "metadata": {},
     "output_type": "display_data"
    }
   ],
   "source": [
    "# Visualize the first one in the train dataLoader\n",
    "trainFeaturesBatch, trainLabelsBatch = next(iter(trainDataLoader))\n",
    "img, lbl = trainFeaturesBatch[0], trainLabelsBatch[0]\n",
    "plt.imshow(img.squeeze())\n",
    "plt.title(classNames[lbl])"
   ]
  },
  {
   "cell_type": "code",
   "execution_count": 96,
   "id": "ebde53b2-a3dc-42ae-9e93-54aaae866366",
   "metadata": {},
   "outputs": [],
   "source": [
    "# Accuracy function\n",
    "def predAccuracy(y_true, y_pred):\n",
    "    correct = torch.eq(y_true, y_pred).sum().item()\n",
    "    acc = (correct / len(y_pred)) * 100\n",
    "    return acc\n",
    "\n",
    "# Timing function\n",
    "def print_train_time(start: float, end: float, device: torch.device = None):\n",
    "    total_time = end - start\n",
    "    print(f\"Train time on {device}: {total_time:.3f} seconds\")\n",
    "    return total_time\n",
    "\n",
    "# Training loop function\n",
    "def train_step(model_instance : torch.nn.Module, \n",
    "               data_loader: torch.utils.data.DataLoader, \n",
    "               loss_fn: torch.nn.Module, \n",
    "               optimizer: torch.optim.Optimizer, \n",
    "               acc_fn, \n",
    "               device: torch.device):\n",
    "    \n",
    "    train_loss, train_acc = 0,0\n",
    "    model_instance.to(device)\n",
    "    model_instance.train()\n",
    "    \n",
    "    for batch, (x,y) in enumerate(data_loader):\n",
    "        x,y = x.to(device), y.to(device)    \n",
    "        \n",
    "        train_pred = model_instance(x)\n",
    "        \n",
    "        loss= loss_fn(train_pred,y)\n",
    "        train_loss += loss\n",
    "        train_acc += acc_fn(y,train_pred.argmax(dim=1))\n",
    "\n",
    "        optimizer.zero_grad()\n",
    "        loss.backward()\n",
    "        optimizer.step()\n",
    "\n",
    "    train_loss /= len(data_loader)\n",
    "    train_acc /= len(data_loader)\n",
    "    print(f\"Train loss: {train_loss:.5f} | Train accuracy: {train_acc:.2f}%\\n\")\n",
    "\n",
    "# Test loop function\n",
    "def test_step(model_instance : torch.nn.Module, \n",
    "               data_loader: torch.utils.data.DataLoader, \n",
    "               loss_fn: torch.nn.Module, \n",
    "               acc_fn, \n",
    "               device: torch.device):\n",
    "    \n",
    "    test_loss, test_acc = 0,0\n",
    "    model_instance.to(device)\n",
    "    model_instance.eval()\n",
    "    \n",
    "    with torch.inference_mode():\n",
    "        for x,y in data_loader:\n",
    "            x,y = x.to(device), y.to(device)\n",
    "            \n",
    "            test_pred = model_instance(x)\n",
    "            \n",
    "            test_loss +=loss_fn(test_pred,y)\n",
    "            test_acc += acc_fn(y,test_pred.argmax(dim=1))\n",
    "\n",
    "        test_loss /= len(data_loader)\n",
    "        test_acc /= len(data_loader)\n",
    "        print(f\"Test loss: {test_loss:.5f} | Test accuracy: {test_acc:.2f}%\")\n",
    "\n",
    "# Model evaluation summary function\n",
    "def eval_model(model_instance: torch.nn.Module, \n",
    "               data_loader: torch.utils.data.DataLoader, \n",
    "               loss_fn: torch.nn.Module, \n",
    "               accuracy_fn,\n",
    "               device: torch.device):\n",
    "\n",
    "    loss, acc = 0, 0\n",
    "    model_instance.to(device)\n",
    "    model_instance.eval()\n",
    "    \n",
    "    with torch.inference_mode():\n",
    "        for x, y in data_loader:\n",
    "            x,y = x.to(device), y.to(device)\n",
    "            \n",
    "            y_pred = model_instance(x)\n",
    "            \n",
    "            loss += loss_fn(y_pred, y)\n",
    "            acc += accuracy_fn(y,y_pred.argmax(dim=1)) \n",
    "            \n",
    "        loss /= len(data_loader)\n",
    "        acc /= len(data_loader)\n",
    "        \n",
    "    return {\"model_name\": model_instance.__class__.__name__, # only works when model was created with a class\n",
    "            \"model_loss\": loss.item(),\n",
    "            \"model_acc\": acc}\n",
    "\n"
   ]
  },
  {
   "cell_type": "code",
   "execution_count": 84,
   "id": "68319869-9b65-4b27-99b2-338e61a8806e",
   "metadata": {},
   "outputs": [],
   "source": [
    "# Create model-1 (CNN), on cpu, with data loader\n",
    "class MNISTModelv1(nn.Module):\n",
    "    \"\"\"\n",
    "    Model architecture copying TinyVGG from: \n",
    "    https://poloclub.github.io/cnn-explainer/\n",
    "    \"\"\"\n",
    "    def __init__(self, input_shape: int, hidden_units: int, output_shape: int):\n",
    "        super().__init__()\n",
    "        self.block_1 = nn.Sequential(\n",
    "            nn.Conv2d(in_channels=input_shape, \n",
    "                      out_channels=hidden_units, \n",
    "                      kernel_size=3, # how big is the square that's going over the image?\n",
    "                      stride=1, # default\n",
    "                      padding=1),# options = \"valid\" (no padding) or \"same\" (output has same shape as input) or int for specific number \n",
    "            nn.ReLU(),\n",
    "            nn.Conv2d(in_channels=hidden_units, \n",
    "                      out_channels=hidden_units,\n",
    "                      kernel_size=3,\n",
    "                      stride=1,\n",
    "                      padding=1),\n",
    "            nn.ReLU(),\n",
    "            nn.MaxPool2d(kernel_size=2,\n",
    "                         stride=2) # default stride value is same as kernel_size\n",
    "        )\n",
    "        self.block_2 = nn.Sequential(\n",
    "            nn.Conv2d(hidden_units, hidden_units, 3, padding=1),\n",
    "            nn.ReLU(),\n",
    "            nn.Conv2d(hidden_units, hidden_units, 3, padding=1),\n",
    "            nn.ReLU(),\n",
    "            nn.MaxPool2d(2)\n",
    "        )\n",
    "        self.classifier = nn.Sequential(\n",
    "            nn.Flatten(),\n",
    "            # Where did this in_features shape come from? \n",
    "            # It's because each layer of our network compresses and changes the shape of our input data.\n",
    "            nn.Linear(in_features=hidden_units*7*7, \n",
    "                      out_features=output_shape)\n",
    "        )\n",
    "    \n",
    "    def forward(self, x: torch.Tensor):\n",
    "        x = self.block_1(x)\n",
    "        x = self.block_2(x)\n",
    "        x = self.classifier(x)\n",
    "        return x"
   ]
  },
  {
   "cell_type": "code",
   "execution_count": 88,
   "id": "2bf21fad-440f-4dfa-976b-d0a0174ac859",
   "metadata": {},
   "outputs": [
    {
     "data": {
      "application/vnd.jupyter.widget-view+json": {
       "model_id": "422fa1820a0845c1888fb275440f8f71",
       "version_major": 2,
       "version_minor": 0
      },
      "text/plain": [
       "  0%|          | 0/10 [00:00<?, ?it/s]"
      ]
     },
     "metadata": {},
     "output_type": "display_data"
    },
    {
     "name": "stdout",
     "output_type": "stream",
     "text": [
      "Epoch: 0\n",
      "---------\n",
      "Train loss: 2.07299 | Train accuracy: 30.38%\n",
      "\n",
      "Epoch: 1\n",
      "---------\n",
      "Train loss: 0.32226 | Train accuracy: 90.38%\n",
      "\n",
      "Epoch: 2\n",
      "---------\n",
      "Train loss: 0.15636 | Train accuracy: 95.16%\n",
      "\n",
      "Epoch: 3\n",
      "---------\n",
      "Train loss: 0.15412 | Train accuracy: 95.27%\n",
      "\n",
      "Epoch: 4\n",
      "---------\n",
      "Train loss: 0.11164 | Train accuracy: 96.59%\n",
      "\n",
      "Epoch: 5\n",
      "---------\n",
      "Train loss: 0.09922 | Train accuracy: 96.92%\n",
      "\n",
      "Epoch: 6\n",
      "---------\n",
      "Train loss: 0.09549 | Train accuracy: 96.95%\n",
      "\n",
      "Epoch: 7\n",
      "---------\n",
      "Train loss: 0.08795 | Train accuracy: 97.25%\n",
      "\n",
      "Epoch: 8\n",
      "---------\n",
      "Train loss: 0.08344 | Train accuracy: 97.43%\n",
      "\n",
      "Epoch: 9\n",
      "---------\n",
      "Train loss: 0.07681 | Train accuracy: 97.59%\n",
      "\n",
      "Train time on cpu: 118.930 seconds\n"
     ]
    }
   ],
   "source": [
    "device = \"cpu\"\n",
    "input_shape = 1\n",
    "hidden_shape = 10\n",
    "output_shape = len(classNames)\n",
    "\n",
    "# Create a model-1 instance and train it. Afterwards make predictions with it.\n",
    "model1_CNN_cpu_batch512 = MNISTModelv1(input_shape, hidden_shape, output_shape)\n",
    "\n",
    "# Setup loss and optimizer\n",
    "loss_fn = nn.CrossEntropyLoss()\n",
    "optimizer = torch.optim.SGD(model1_CNN_cpu_batch512.parameters(), lr=0.1)\n",
    "\n",
    "epochs = 10\n",
    "\n",
    "train_time_start_model1 = timer()\n",
    "for epoch in tqdm(range(epochs)):\n",
    "    print(f\"Epoch: {epoch}\\n---------\")\n",
    "    train_step(data_loader=trainDataLoader, \n",
    "        model_instance=model1_CNN_cpu_batch512, \n",
    "        loss_fn=loss_fn,\n",
    "        optimizer=optimizer,\n",
    "        acc_fn=predAccuracy,\n",
    "        device=device\n",
    "    )\n",
    "\n",
    "train_time_end_model1 = timer()\n",
    "total_train_time_model1 = print_train_time(start=train_time_start_model1,\n",
    "                                           end=train_time_end_model1,\n",
    "                                           device=device)"
   ]
  },
  {
   "cell_type": "code",
   "execution_count": 98,
   "id": "fb50e72e-dd4b-4fca-9c60-eadc165aca2a",
   "metadata": {},
   "outputs": [
    {
     "data": {
      "text/plain": [
       "{'model_name': 'MNISTModelv1',\n",
       " 'model_loss': 0.07638484984636307,\n",
       " 'model_acc': 97.52412683823529}"
      ]
     },
     "execution_count": 98,
     "metadata": {},
     "output_type": "execute_result"
    }
   ],
   "source": [
    "# Get model1 results \n",
    "model1_CNN_cpu_batch512_results = eval_model(\n",
    "    model_instance=model1_CNN_cpu_batch512,\n",
    "    data_loader=testDataLoader,\n",
    "    loss_fn=loss_fn,\n",
    "    accuracy_fn=predAccuracy,\n",
    "    device = device)\n",
    "model1_CNN_cpu_batch512_results"
   ]
  },
  {
   "cell_type": "code",
   "execution_count": 134,
   "id": "076c8097-293b-4d58-9929-779271a175f4",
   "metadata": {},
   "outputs": [
    {
     "data": {
      "application/vnd.jupyter.widget-view+json": {
       "model_id": "62eabc9f02974878878f5eb2458f89d6",
       "version_major": 2,
       "version_minor": 0
      },
      "text/plain": [
       "  0%|          | 0/25 [00:00<?, ?it/s]"
      ]
     },
     "metadata": {},
     "output_type": "display_data"
    },
    {
     "name": "stdout",
     "output_type": "stream",
     "text": [
      "Epoch: 0\n",
      "---------\n",
      "Train loss: 2.28263 | Train accuracy: 23.81%\n",
      "\n",
      "Epoch: 1\n",
      "---------\n",
      "Train loss: 1.10730 | Train accuracy: 73.57%\n",
      "\n",
      "Epoch: 2\n",
      "---------\n",
      "Train loss: 0.22500 | Train accuracy: 93.33%\n",
      "\n",
      "Epoch: 3\n",
      "---------\n",
      "Train loss: 0.15331 | Train accuracy: 95.38%\n",
      "\n",
      "Epoch: 4\n",
      "---------\n",
      "Train loss: 0.12621 | Train accuracy: 96.18%\n",
      "\n",
      "Epoch: 5\n",
      "---------\n",
      "Train loss: 0.10598 | Train accuracy: 96.75%\n",
      "\n",
      "Epoch: 6\n",
      "---------\n",
      "Train loss: 0.09107 | Train accuracy: 97.23%\n",
      "\n",
      "Epoch: 7\n",
      "---------\n",
      "Train loss: 0.28478 | Train accuracy: 92.50%\n",
      "\n",
      "Epoch: 8\n",
      "---------\n",
      "Train loss: 0.09211 | Train accuracy: 97.15%\n",
      "\n",
      "Epoch: 9\n",
      "---------\n",
      "Train loss: 0.07891 | Train accuracy: 97.61%\n",
      "\n",
      "Epoch: 10\n",
      "---------\n",
      "Train loss: 0.06770 | Train accuracy: 97.95%\n",
      "\n",
      "Epoch: 11\n",
      "---------\n",
      "Train loss: 0.06062 | Train accuracy: 98.20%\n",
      "\n",
      "Epoch: 12\n",
      "---------\n",
      "Train loss: 0.05713 | Train accuracy: 98.20%\n",
      "\n",
      "Epoch: 13\n",
      "---------\n",
      "Train loss: 0.05191 | Train accuracy: 98.42%\n",
      "\n",
      "Epoch: 14\n",
      "---------\n",
      "Train loss: 0.04968 | Train accuracy: 98.50%\n",
      "\n",
      "Epoch: 15\n",
      "---------\n",
      "Train loss: 0.04587 | Train accuracy: 98.58%\n",
      "\n",
      "Epoch: 16\n",
      "---------\n",
      "Train loss: 0.04281 | Train accuracy: 98.72%\n",
      "\n",
      "Epoch: 17\n",
      "---------\n",
      "Train loss: 0.04147 | Train accuracy: 98.75%\n",
      "\n",
      "Epoch: 18\n",
      "---------\n",
      "Train loss: 0.03947 | Train accuracy: 98.76%\n",
      "\n",
      "Epoch: 19\n",
      "---------\n",
      "Train loss: 0.03901 | Train accuracy: 98.83%\n",
      "\n",
      "Epoch: 20\n",
      "---------\n",
      "Train loss: 0.03672 | Train accuracy: 98.85%\n",
      "\n",
      "Epoch: 21\n",
      "---------\n",
      "Train loss: 0.03470 | Train accuracy: 98.87%\n",
      "\n",
      "Epoch: 22\n",
      "---------\n",
      "Train loss: 0.03373 | Train accuracy: 98.93%\n",
      "\n",
      "Epoch: 23\n",
      "---------\n",
      "Train loss: 0.03275 | Train accuracy: 98.96%\n",
      "\n",
      "Epoch: 24\n",
      "---------\n",
      "Train loss: 0.03146 | Train accuracy: 98.98%\n",
      "\n",
      "Train time on cuda: 139.140 seconds\n"
     ]
    }
   ],
   "source": [
    "device = \"cuda\"\n",
    "input_shape = 1\n",
    "hidden_shape = 30\n",
    "output_shape = len(classNames)\n",
    "\n",
    "# Create a model-2 instance and train it. Afterwards make predictions with it.\n",
    "model1_CNN_gpu_batch512 = MNISTModelv1(input_shape, hidden_shape, output_shape)\n",
    "\n",
    "# Setup loss and optimizer\n",
    "loss_fn = nn.CrossEntropyLoss()\n",
    "optimizer = torch.optim.SGD(model1_CNN_gpu_batch512.parameters(), lr=0.1)\n",
    "\n",
    "epochs = 25\n",
    "\n",
    "train_time_start_model2 = timer()\n",
    "for epoch in tqdm(range(epochs)):\n",
    "    print(f\"Epoch: {epoch}\\n---------\")\n",
    "    train_step(data_loader=trainDataLoader, \n",
    "        model_instance=model1_CNN_gpu_batch512, \n",
    "        loss_fn=loss_fn,\n",
    "        optimizer=optimizer,\n",
    "        acc_fn=predAccuracy,\n",
    "        device=device\n",
    "    )\n",
    "\n",
    "train_time_end_model2 = timer()\n",
    "total_train_time_model2 = print_train_time(start=train_time_start_model2,\n",
    "                                           end=train_time_end_model2,\n",
    "                                           device=device)"
   ]
  },
  {
   "cell_type": "code",
   "execution_count": 136,
   "id": "de33978c-653d-4540-b4ca-f1490cad5b66",
   "metadata": {},
   "outputs": [
    {
     "data": {
      "text/plain": [
       "{'model_name': 'MNISTModelv1',\n",
       " 'model_loss': 0.06221674010157585,\n",
       " 'model_acc': 98.11236213235294}"
      ]
     },
     "execution_count": 136,
     "metadata": {},
     "output_type": "execute_result"
    }
   ],
   "source": [
    "# Get model2 results \n",
    "model1_CNN_gpu_batch512_results = eval_model(\n",
    "    model_instance=model1_CNN_gpu_batch512,\n",
    "    data_loader=testDataLoader,\n",
    "    loss_fn=loss_fn,\n",
    "    accuracy_fn=predAccuracy,\n",
    "    device = device)\n",
    "model1_CNN_gpu_batch512_results"
   ]
  },
  {
   "cell_type": "code",
   "execution_count": 114,
   "id": "6b32ac1d-7df7-4533-9d5a-976a1fdd41c2",
   "metadata": {},
   "outputs": [],
   "source": [
    "#compare_results = pd.DataFrame([model1_CNN_cpu_batch512_results,\n",
    "#                                model1_CNN_gpu_batch512_results])\n",
    "#compare_results[\"training_time\"] = [total_train_time_model1 ,\n",
    "#                                    total_train_time_model2]\n",
    "#compare_results\n"
   ]
  },
  {
   "cell_type": "code",
   "execution_count": 116,
   "id": "f0c21bca-6ffd-4a23-af73-b5538d6473cb",
   "metadata": {},
   "outputs": [],
   "source": [
    "# Visualize results\n",
    "#compare_results.set_index(\"model_name\")[\"model_acc\"].plot(kind=\"barh\")\n",
    "#plt.xlabel(\"accuracy (%)\")\n",
    "#plt.ylabel(\"model\")"
   ]
  }
 ],
 "metadata": {
  "kernelspec": {
   "display_name": "Python [conda env:base] *",
   "language": "python",
   "name": "conda-base-py"
  },
  "language_info": {
   "codemirror_mode": {
    "name": "ipython",
    "version": 3
   },
   "file_extension": ".py",
   "mimetype": "text/x-python",
   "name": "python",
   "nbconvert_exporter": "python",
   "pygments_lexer": "ipython3",
   "version": "3.12.7"
  }
 },
 "nbformat": 4,
 "nbformat_minor": 5
}

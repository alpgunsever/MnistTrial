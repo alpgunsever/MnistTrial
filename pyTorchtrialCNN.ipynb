{
 "cells": [
  {
   "cell_type": "code",
   "execution_count": 148,
   "id": "a9801bf2-32cf-45b7-b4b0-6ae4619697eb",
   "metadata": {},
   "outputs": [],
   "source": [
    "# import pyTorch\n",
    "import torch\n",
    "from torch import nn\n",
    "\n",
    "# import torchVision\n",
    "import torchvision\n",
    "from torchvision import datasets\n",
    "from torchvision.transforms import ToTensor\n",
    "\n",
    "# import DataLoader\n",
    "from torch.utils.data import DataLoader\n",
    "\n",
    "# import other packages\n",
    "import pandas as pd\n",
    "import matplotlib.pyplot as plt\n",
    "from timeit import default_timer as timer \n",
    "from tqdm.auto import tqdm"
   ]
  },
  {
   "cell_type": "code",
   "execution_count": 7,
   "id": "55442700-36ec-41a3-b865-8354ecfb8531",
   "metadata": {},
   "outputs": [],
   "source": [
    "# Load MNIST dataset\n",
    "trainData = datasets.MNIST(\n",
    "    root = \"data\",\n",
    "    train = True,\n",
    "    download = True,\n",
    "    transform = ToTensor()\n",
    ")\n",
    "\n",
    "testData = datasets.MNIST(\n",
    "    root = \"data\",\n",
    "    train = False,\n",
    "    download = True,\n",
    "    transform = ToTensor()\n",
    ")"
   ]
  },
  {
   "cell_type": "code",
   "execution_count": 8,
   "id": "51aeeecf-8a2b-4728-a10d-c56c9239a0ec",
   "metadata": {},
   "outputs": [
    {
     "data": {
      "text/plain": [
       "torch.Size([1, 28, 28])"
      ]
     },
     "execution_count": 8,
     "metadata": {},
     "output_type": "execute_result"
    }
   ],
   "source": [
    "# Check data\n",
    "image, label = trainData[0]\n",
    "image.shape"
   ]
  },
  {
   "cell_type": "code",
   "execution_count": 12,
   "id": "c1da1e77-39d2-4338-aba8-5e3c0957f3ae",
   "metadata": {},
   "outputs": [
    {
     "data": {
      "text/plain": [
       "(60000, 60000, 10000, 10000)"
      ]
     },
     "execution_count": 12,
     "metadata": {},
     "output_type": "execute_result"
    }
   ],
   "source": [
    "len(trainData.data), len(trainData.targets), len(testData.data), len(testData.targets)"
   ]
  },
  {
   "cell_type": "code",
   "execution_count": 14,
   "id": "dc2ce8ff-1bf0-4270-be8c-cbbe1808c91b",
   "metadata": {},
   "outputs": [
    {
     "data": {
      "text/plain": [
       "['0 - zero',\n",
       " '1 - one',\n",
       " '2 - two',\n",
       " '3 - three',\n",
       " '4 - four',\n",
       " '5 - five',\n",
       " '6 - six',\n",
       " '7 - seven',\n",
       " '8 - eight',\n",
       " '9 - nine']"
      ]
     },
     "execution_count": 14,
     "metadata": {},
     "output_type": "execute_result"
    }
   ],
   "source": [
    "classNames = trainData.classes\n",
    "classNames"
   ]
  },
  {
   "cell_type": "code",
   "execution_count": 16,
   "id": "9511139e-f962-4c4c-8523-859201f65eb2",
   "metadata": {},
   "outputs": [
    {
     "data": {
      "text/plain": [
       "Text(0.5, 1.0, '5')"
      ]
     },
     "execution_count": 16,
     "metadata": {},
     "output_type": "execute_result"
    },
    {
     "data": {
      "image/png": "[encoded data removed]",
      "text/plain": [
       "<Figure size 640x480 with 1 Axes>"
      ]
     },
     "metadata": {},
     "output_type": "display_data"
    }
   ],
   "source": [
    "# Visualize image\n",
    "plt.imshow(image.squeeze())\n",
    "plt.title(label)"
   ]
  },
  {
   "cell_type": "code",
   "execution_count": 18,
   "id": "cdccfaa1-7d6c-4f30-b245-4784dc2a94eb",
   "metadata": {},
   "outputs": [
    {
     "name": "stdout",
     "output_type": "stream",
     "text": [
      "DataLoader for training set: 59 batches of 1024\n",
      "DataLoader for test set: 10 batches of 1024\n"
     ]
    }
   ],
   "source": [
    "# Prepare data loader\n",
    "batchSize = 1024\n",
    "trainDataLoader = DataLoader(trainData, batch_size= batchSize, shuffle = True)\n",
    "testDataLoader = DataLoader(testData, batch_size = batchSize, shuffle = True)\n",
    "\n",
    "print(f\"DataLoader for training set: {len(trainDataLoader)} batches of {batchSize}\")\n",
    "print(f\"DataLoader for test set: {len(testDataLoader)} batches of {batchSize}\")"
   ]
  },
  {
   "cell_type": "code",
   "execution_count": 20,
   "id": "06538dd8-8c0a-4700-bff2-34bf256efce1",
   "metadata": {},
   "outputs": [
    {
     "data": {
      "text/plain": [
       "Text(0.5, 1.0, '8 - eight')"
      ]
     },
     "execution_count": 20,
     "metadata": {},
     "output_type": "execute_result"
    },
    {
     "data": {
      "image/png": "[encoded data removed]",
      "text/plain": [
       "<Figure size 640x480 with 1 Axes>"
      ]
     },
     "metadata": {},
     "output_type": "display_data"
    }
   ],
   "source": [
    "# Visualize the first one in the train dataLoader\n",
    "trainFeaturesBatch, trainLabelsBatch = next(iter(trainDataLoader))\n",
    "img, lbl = trainFeaturesBatch[0], trainLabelsBatch[0]\n",
    "plt.imshow(img.squeeze())\n",
    "plt.title(classNames[lbl])"
   ]
  },
  {
   "cell_type": "code",
   "execution_count": 22,
   "id": "ebde53b2-a3dc-42ae-9e93-54aaae866366",
   "metadata": {},
   "outputs": [],
   "source": [
    "# Accuracy function\n",
    "def predAccuracy(y_true, y_pred):\n",
    "    correct = torch.eq(y_true, y_pred).sum().item()\n",
    "    acc = (correct / len(y_pred)) * 100\n",
    "    return acc\n",
    "\n",
    "# Timing function\n",
    "def print_train_time(start: float, end: float, device: torch.device = None):\n",
    "    total_time = end - start\n",
    "    print(f\"Train time on {device}: {total_time:.3f} seconds\")\n",
    "    return total_time\n",
    "\n",
    "# Training loop function\n",
    "def train_step(model_instance : torch.nn.Module, \n",
    "               data_loader: torch.utils.data.DataLoader, \n",
    "               loss_fn: torch.nn.Module, \n",
    "               optimizer: torch.optim.Optimizer, \n",
    "               acc_fn, \n",
    "               device: torch.device):\n",
    "    \n",
    "    train_loss, train_acc = 0,0\n",
    "    model_instance.to(device)\n",
    "    model_instance.train()\n",
    "    \n",
    "    for batch, (x,y) in enumerate(data_loader):\n",
    "        x,y = x.to(device), y.to(device)    \n",
    "        \n",
    "        train_pred = model_instance(x)\n",
    "        \n",
    "        loss= loss_fn(train_pred,y)\n",
    "        train_loss += loss\n",
    "        train_acc += acc_fn(y,train_pred.argmax(dim=1))\n",
    "\n",
    "        optimizer.zero_grad()\n",
    "        loss.backward()\n",
    "        optimizer.step()\n",
    "\n",
    "    train_loss /= len(data_loader)\n",
    "    train_acc /= len(data_loader)\n",
    "    print(f\"Train loss: {train_loss:.5f} | Train accuracy: {train_acc:.2f}%\\n\")\n",
    "\n",
    "# Test loop function\n",
    "def test_step(model_instance : torch.nn.Module, \n",
    "               data_loader: torch.utils.data.DataLoader, \n",
    "               loss_fn: torch.nn.Module, \n",
    "               acc_fn, \n",
    "               device: torch.device):\n",
    "    \n",
    "    test_loss, test_acc = 0,0\n",
    "    model_instance.to(device)\n",
    "    model_instance.eval()\n",
    "    \n",
    "    with torch.inference_mode():\n",
    "        for x,y in data_loader:\n",
    "            x,y = x.to(device), y.to(device)\n",
    "            \n",
    "            test_pred = model_instance(x)\n",
    "            \n",
    "            test_loss +=loss_fn(test_pred,y)\n",
    "            test_acc += acc_fn(y,test_pred.argmax(dim=1))\n",
    "\n",
    "        test_loss /= len(data_loader)\n",
    "        test_acc /= len(data_loader)\n",
    "        print(f\"Test loss: {test_loss:.5f} | Test accuracy: {test_acc:.2f}%\")\n",
    "\n",
    "# Model evaluation summary function\n",
    "def eval_model(model_instance: torch.nn.Module, \n",
    "               data_loader: torch.utils.data.DataLoader, \n",
    "               loss_fn: torch.nn.Module, \n",
    "               accuracy_fn,\n",
    "               device: torch.device):\n",
    "\n",
    "    loss, acc = 0, 0\n",
    "    model_instance.to(device)\n",
    "    model_instance.eval()\n",
    "    \n",
    "    with torch.inference_mode():\n",
    "        for x, y in data_loader:\n",
    "            x,y = x.to(device), y.to(device)\n",
    "            \n",
    "            y_pred = model_instance(x)\n",
    "            \n",
    "            loss += loss_fn(y_pred, y)\n",
    "            acc += accuracy_fn(y,y_pred.argmax(dim=1)) \n",
    "            \n",
    "        loss /= len(data_loader)\n",
    "        acc /= len(data_loader)\n",
    "        \n",
    "    return {\"model_name\": model_instance.__class__.__name__, # only works when model was created with a class\n",
    "            \"model_loss\": loss.item(),\n",
    "            \"model_acc\": acc}\n",
    "\n"
   ]
  },
  {
   "cell_type": "code",
   "execution_count": 24,
   "id": "68319869-9b65-4b27-99b2-338e61a8806e",
   "metadata": {},
   "outputs": [],
   "source": [
    "# Create model-1 (CNN): tinyVGG\n",
    "class MNISTModelv1(nn.Module):\n",
    "    \"\"\"\n",
    "    Model architecture copying TinyVGG from: \n",
    "    https://poloclub.github.io/cnn-explainer/\n",
    "    \"\"\"\n",
    "    def __init__(self, input_shape: int, hidden_units: int, output_shape: int):\n",
    "        super().__init__()\n",
    "        self.block_1 = nn.Sequential(\n",
    "            nn.Conv2d(in_channels=input_shape, \n",
    "                      out_channels=hidden_units, \n",
    "                      kernel_size=3, # how big is the square that's going over the image?\n",
    "                      stride=1, # default\n",
    "                      padding=1),# options = \"valid\" (no padding) or \"same\" (output has same shape as input) or int for specific number \n",
    "            nn.ReLU(),\n",
    "            nn.Conv2d(in_channels=hidden_units, \n",
    "                      out_channels=hidden_units,\n",
    "                      kernel_size=3,\n",
    "                      stride=1,\n",
    "                      padding=1),\n",
    "            nn.ReLU(),\n",
    "            nn.MaxPool2d(kernel_size=2,\n",
    "                         stride=2) # default stride value is same as kernel_size\n",
    "        )\n",
    "        self.block_2 = nn.Sequential(\n",
    "            nn.Conv2d(hidden_units, hidden_units, 3, padding=1),\n",
    "            nn.ReLU(),\n",
    "            nn.Conv2d(hidden_units, hidden_units, 3, padding=1),\n",
    "            nn.ReLU(),\n",
    "            nn.MaxPool2d(2)\n",
    "        )\n",
    "        self.classifier = nn.Sequential(\n",
    "            nn.Flatten(),\n",
    "            # Where did this in_features shape come from? \n",
    "            # It's because each layer of our network compresses and changes the shape of our input data.\n",
    "            nn.Linear(in_features=hidden_units*7*7, \n",
    "                      out_features=output_shape)\n",
    "        )\n",
    "    \n",
    "    def forward(self, x: torch.Tensor):\n",
    "        x = self.block_1(x)\n",
    "        x = self.block_2(x)\n",
    "        x = self.classifier(x)\n",
    "        return x"
   ]
  },
  {
   "cell_type": "code",
   "execution_count": 36,
   "id": "2bf21fad-440f-4dfa-976b-d0a0174ac859",
   "metadata": {},
   "outputs": [
    {
     "data": {
      "application/vnd.jupyter.widget-view+json": {
       "model_id": "66a5a795c90a41f9b2f95b70f75f4298",
       "version_major": 2,
       "version_minor": 0
      },
      "text/plain": [
       "  0%|          | 0/10 [00:00<?, ?it/s]"
      ]
     },
     "metadata": {},
     "output_type": "display_data"
    },
    {
     "name": "stdout",
     "output_type": "stream",
     "text": [
      "Epoch: 0\n",
      "---------\n",
      "Train loss: 2.28910 | Train accuracy: 17.21%\n",
      "\n",
      "Epoch: 1\n",
      "---------\n",
      "Train loss: 2.04447 | Train accuracy: 42.89%\n",
      "\n",
      "Epoch: 2\n",
      "---------\n",
      "Train loss: 0.44869 | Train accuracy: 88.06%\n",
      "\n",
      "Epoch: 3\n",
      "---------\n",
      "Train loss: 0.19231 | Train accuracy: 94.27%\n",
      "\n",
      "Epoch: 4\n",
      "---------\n",
      "Train loss: 0.16133 | Train accuracy: 95.19%\n",
      "\n",
      "Epoch: 5\n",
      "---------\n",
      "Train loss: 0.14042 | Train accuracy: 95.74%\n",
      "\n",
      "Epoch: 6\n",
      "---------\n",
      "Train loss: 0.11399 | Train accuracy: 96.60%\n",
      "\n",
      "Epoch: 7\n",
      "---------\n",
      "Train loss: 0.10240 | Train accuracy: 96.86%\n",
      "\n",
      "Epoch: 8\n",
      "---------\n",
      "Train loss: 0.09794 | Train accuracy: 96.99%\n",
      "\n",
      "Epoch: 9\n",
      "---------\n",
      "Train loss: 0.08915 | Train accuracy: 97.31%\n",
      "\n",
      "Train time on cpu: 119.478 seconds\n"
     ]
    }
   ],
   "source": [
    "device = \"cpu\"\n",
    "input_shape = 1\n",
    "hidden_shape = 10\n",
    "output_shape = len(classNames)\n",
    "\n",
    "# Create a model-1 instance and train it. Afterwards make predictions with it.\n",
    "model1_CNN_cpu_batch512 = MNISTModelv1(input_shape, hidden_shape, output_shape)\n",
    "\n",
    "# Setup loss and optimizer\n",
    "loss_fn = nn.CrossEntropyLoss()\n",
    "optimizer = torch.optim.SGD(model1_CNN_cpu_batch512.parameters(), lr=0.1)\n",
    "\n",
    "epochs = 10\n",
    "\n",
    "train_time_start_model1 = timer()\n",
    "for epoch in tqdm(range(epochs)):\n",
    "    print(f\"Epoch: {epoch}\\n---------\")\n",
    "    train_step(data_loader=trainDataLoader, \n",
    "        model_instance=model1_CNN_cpu_batch512, \n",
    "        loss_fn=loss_fn,\n",
    "        optimizer=optimizer,\n",
    "        acc_fn=predAccuracy,\n",
    "        device=device\n",
    "    )\n",
    "\n",
    "train_time_end_model1 = timer()\n",
    "total_train_time_model1 = print_train_time(start=train_time_start_model1,\n",
    "                                           end=train_time_end_model1,\n",
    "                                           device=device)"
   ]
  },
  {
   "cell_type": "code",
   "execution_count": 38,
   "id": "fb50e72e-dd4b-4fca-9c60-eadc165aca2a",
   "metadata": {},
   "outputs": [
    {
     "data": {
      "text/plain": [
       "{'model_name': 'MNISTModelv1',\n",
       " 'model_loss': 0.07225783169269562,\n",
       " 'model_acc': 97.7586894132653}"
      ]
     },
     "execution_count": 38,
     "metadata": {},
     "output_type": "execute_result"
    }
   ],
   "source": [
    "# Get model1 results \n",
    "model1_CNN_cpu_batch512_results = eval_model(\n",
    "    model_instance=model1_CNN_cpu_batch512,\n",
    "    data_loader=testDataLoader,\n",
    "    loss_fn=loss_fn,\n",
    "    accuracy_fn=predAccuracy,\n",
    "    device = device)\n",
    "model1_CNN_cpu_batch512_results"
   ]
  },
  {
   "cell_type": "code",
   "execution_count": 150,
   "id": "076c8097-293b-4d58-9929-779271a175f4",
   "metadata": {},
   "outputs": [
    {
     "data": {
      "application/vnd.jupyter.widget-view+json": {
       "model_id": "da8fc962615e4db8a8a173309a73f5b7",
       "version_major": 2,
       "version_minor": 0
      },
      "text/plain": [
       "  0%|          | 0/30 [00:00<?, ?it/s]"
      ]
     },
     "metadata": {},
     "output_type": "display_data"
    },
    {
     "name": "stdout",
     "output_type": "stream",
     "text": [
      "Epoch: 0\n",
      "---------\n",
      "Train loss: 2.24903 | Train accuracy: 27.58%\n",
      "\n",
      "Epoch: 1\n",
      "---------\n",
      "Train loss: 1.40614 | Train accuracy: 62.03%\n",
      "\n",
      "Epoch: 2\n",
      "---------\n",
      "Train loss: 0.24085 | Train accuracy: 92.60%\n",
      "\n",
      "Epoch: 3\n",
      "---------\n",
      "Train loss: 0.15550 | Train accuracy: 95.28%\n",
      "\n",
      "Epoch: 4\n",
      "---------\n",
      "Train loss: 0.18931 | Train accuracy: 94.30%\n",
      "\n",
      "Epoch: 5\n",
      "---------\n",
      "Train loss: 0.10314 | Train accuracy: 96.87%\n",
      "\n",
      "Epoch: 6\n",
      "---------\n",
      "Train loss: 0.08735 | Train accuracy: 97.31%\n",
      "\n",
      "Epoch: 7\n",
      "---------\n",
      "Train loss: 0.07909 | Train accuracy: 97.60%\n",
      "\n",
      "Epoch: 8\n",
      "---------\n",
      "Train loss: 0.06997 | Train accuracy: 97.86%\n",
      "\n",
      "Epoch: 9\n",
      "---------\n",
      "Train loss: 0.06600 | Train accuracy: 97.96%\n",
      "\n",
      "Epoch: 10\n",
      "---------\n",
      "Train loss: 0.06022 | Train accuracy: 98.12%\n",
      "\n",
      "Epoch: 11\n",
      "---------\n",
      "Train loss: 0.05556 | Train accuracy: 98.29%\n",
      "\n",
      "Epoch: 12\n",
      "---------\n",
      "Train loss: 0.05165 | Train accuracy: 98.39%\n",
      "\n",
      "Epoch: 13\n",
      "---------\n",
      "Train loss: 0.15914 | Train accuracy: 96.23%\n",
      "\n",
      "Epoch: 14\n",
      "---------\n",
      "Train loss: 0.06483 | Train accuracy: 98.04%\n",
      "\n",
      "Epoch: 15\n",
      "---------\n",
      "Train loss: 0.05051 | Train accuracy: 98.46%\n",
      "\n",
      "Epoch: 16\n",
      "---------\n",
      "Train loss: 0.04488 | Train accuracy: 98.62%\n",
      "\n",
      "Epoch: 17\n",
      "---------\n",
      "Train loss: 0.04214 | Train accuracy: 98.67%\n",
      "\n",
      "Epoch: 18\n",
      "---------\n",
      "Train loss: 0.03985 | Train accuracy: 98.79%\n",
      "\n",
      "Epoch: 19\n",
      "---------\n",
      "Train loss: 0.03676 | Train accuracy: 98.90%\n",
      "\n",
      "Epoch: 20\n",
      "---------\n",
      "Train loss: 0.03591 | Train accuracy: 98.90%\n",
      "\n",
      "Epoch: 21\n",
      "---------\n",
      "Train loss: 0.03441 | Train accuracy: 98.95%\n",
      "\n",
      "Epoch: 22\n",
      "---------\n",
      "Train loss: 0.03307 | Train accuracy: 98.96%\n",
      "\n",
      "Epoch: 23\n",
      "---------\n",
      "Train loss: 0.03134 | Train accuracy: 99.03%\n",
      "\n",
      "Epoch: 24\n",
      "---------\n",
      "Train loss: 0.03030 | Train accuracy: 99.05%\n",
      "\n",
      "Epoch: 25\n",
      "---------\n",
      "Train loss: 0.02832 | Train accuracy: 99.14%\n",
      "\n",
      "Epoch: 26\n",
      "---------\n",
      "Train loss: 0.02794 | Train accuracy: 99.12%\n",
      "\n",
      "Epoch: 27\n",
      "---------\n",
      "Train loss: 0.02678 | Train accuracy: 99.19%\n",
      "\n",
      "Epoch: 28\n",
      "---------\n",
      "Train loss: 0.02555 | Train accuracy: 99.25%\n",
      "\n",
      "Epoch: 29\n",
      "---------\n",
      "Train loss: 0.02513 | Train accuracy: 99.22%\n",
      "\n",
      "Train time on cuda: 239.448 seconds\n"
     ]
    }
   ],
   "source": [
    "device = \"cuda\"\n",
    "input_shape = 1\n",
    "hidden_shape = 100\n",
    "output_shape = len(classNames)\n",
    "\n",
    "# Create a model-2 instance and train it. Afterwards make predictions with it.\n",
    "model1_CNN_gpu_batch512 = MNISTModelv1(input_shape, hidden_shape, output_shape)\n",
    "\n",
    "# Setup loss and optimizer\n",
    "loss_fn = nn.CrossEntropyLoss()\n",
    "optimizer = torch.optim.SGD(model1_CNN_gpu_batch512.parameters(), lr=0.1)\n",
    "\n",
    "epochs = 30\n",
    "\n",
    "train_time_start_model2 = timer()\n",
    "for epoch in tqdm(range(epochs)):\n",
    "    print(f\"Epoch: {epoch}\\n---------\")\n",
    "    train_step(data_loader=trainDataLoader, \n",
    "        model_instance=model1_CNN_gpu_batch512, \n",
    "        loss_fn=loss_fn,\n",
    "        optimizer=optimizer,\n",
    "        acc_fn=predAccuracy,\n",
    "        device=device\n",
    "    )\n",
    "\n",
    "train_time_end_model2 = timer()\n",
    "total_train_time_model2 = print_train_time(start=train_time_start_model2,\n",
    "                                           end=train_time_end_model2,\n",
    "                                           device=device)"
   ]
  },
  {
   "cell_type": "code",
   "execution_count": 152,
   "id": "de33978c-653d-4540-b4ca-f1490cad5b66",
   "metadata": {},
   "outputs": [
    {
     "data": {
      "text/plain": [
       "{'model_name': 'MNISTModelv1',\n",
       " 'model_loss': 0.03123348392546177,\n",
       " 'model_acc': 99.01905293367346}"
      ]
     },
     "execution_count": 152,
     "metadata": {},
     "output_type": "execute_result"
    }
   ],
   "source": [
    "# Get model2 results \n",
    "model1_CNN_gpu_batch512_results = eval_model(\n",
    "    model_instance=model1_CNN_gpu_batch512,\n",
    "    data_loader=testDataLoader,\n",
    "    loss_fn=loss_fn,\n",
    "    accuracy_fn=predAccuracy,\n",
    "    device = device)\n",
    "model1_CNN_gpu_batch512_results"
   ]
  },
  {
   "cell_type": "code",
   "execution_count": 114,
   "id": "6b32ac1d-7df7-4533-9d5a-976a1fdd41c2",
   "metadata": {},
   "outputs": [],
   "source": [
    "#compare_results = pd.DataFrame([model1_CNN_cpu_batch512_results,\n",
    "#                                model1_CNN_gpu_batch512_results])\n",
    "#compare_results[\"training_time\"] = [total_train_time_model1 ,\n",
    "#                                    total_train_time_model2]\n",
    "#compare_results\n"
   ]
  },
  {
   "cell_type": "code",
   "execution_count": 116,
   "id": "f0c21bca-6ffd-4a23-af73-b5538d6473cb",
   "metadata": {},
   "outputs": [],
   "source": [
    "# Visualize results\n",
    "#compare_results.set_index(\"model_name\")[\"model_acc\"].plot(kind=\"barh\")\n",
    "#plt.xlabel(\"accuracy (%)\")\n",
    "#plt.ylabel(\"model\")"
   ]
  },
  {
   "cell_type": "code",
   "execution_count": 154,
   "id": "51deb1ed-5a9a-4af5-bc52-a53fdf55aa89",
   "metadata": {},
   "outputs": [
    {
     "data": {
      "text/plain": [
       "(28000, 784)"
      ]
     },
     "execution_count": 154,
     "metadata": {},
     "output_type": "execute_result"
    }
   ],
   "source": [
    "# Make predictions on the Kaggle test set\n",
    "import os\n",
    "import numpy as np\n",
    "\n",
    "dir = os.getcwd() + '\\\\data'\n",
    "dfTest = pd.read_csv(dir+'\\\\test.csv')\n",
    "dfTest = np.array(dfTest)\n",
    "dfTest.shape"
   ]
  },
  {
   "cell_type": "code",
   "execution_count": 156,
   "id": "4b1cecf0-16b1-4bc5-9603-8390d31e38c4",
   "metadata": {},
   "outputs": [
    {
     "data": {
      "text/plain": [
       "torch.Size([1, 28, 28])"
      ]
     },
     "execution_count": 156,
     "metadata": {},
     "output_type": "execute_result"
    }
   ],
   "source": [
    "xTest = (dfTest/255.).reshape(28000,1,28,28)\n",
    "xTest = torch.tensor(xTest.astype(np.float32)).to(device)\n",
    "xTest[0].shape"
   ]
  },
  {
   "cell_type": "code",
   "execution_count": 158,
   "id": "abbe8c40-5d64-4eaa-85af-f77f7d1896ab",
   "metadata": {},
   "outputs": [],
   "source": [
    "batchSize = 1000\n",
    "dataLoader = DataLoader(xTest, batch_size= batchSize, shuffle = False)"
   ]
  },
  {
   "cell_type": "code",
   "execution_count": 162,
   "id": "2eef5075-8a8d-485e-bedb-1288a6050e45",
   "metadata": {
    "scrolled": true
   },
   "outputs": [
    {
     "data": {
      "text/plain": [
       "<matplotlib.image.AxesImage at 0x23655d1d970>"
      ]
     },
     "execution_count": 162,
     "metadata": {},
     "output_type": "execute_result"
    },
    {
     "data": {
      "image/png": "[encoded data removed]",
      "text/plain": [
       "<Figure size 640x480 with 1 Axes>"
      ]
     },
     "metadata": {},
     "output_type": "display_data"
    }
   ],
   "source": [
    "# Visualize the first one in the train dataLoader\n",
    "FeaturesBatch= next(iter(dataLoader))\n",
    "img = FeaturesBatch[10].to(\"cpu\")\n",
    "plt.imshow(img.squeeze())"
   ]
  },
  {
   "cell_type": "code",
   "execution_count": 164,
   "id": "4100dabe-11bd-4978-b107-1921a367cd98",
   "metadata": {},
   "outputs": [
    {
     "data": {
      "text/plain": [
       "torch.Size([1, 28, 28])"
      ]
     },
     "execution_count": 164,
     "metadata": {},
     "output_type": "execute_result"
    }
   ],
   "source": [
    "img.shape"
   ]
  },
  {
   "cell_type": "code",
   "execution_count": 166,
   "id": "6fa644b8-51f1-40c5-9e17-06afb05243cf",
   "metadata": {},
   "outputs": [],
   "source": [
    "pred_probs = []\n",
    "model1_CNN_gpu_batch512.eval()\n",
    "with torch.inference_mode():\n",
    "    for x in dataLoader:\n",
    "        preds = model1_CNN_gpu_batch512(x).argmax(dim=1)\n",
    "        pred_probs.append(preds.cpu())"
   ]
  },
  {
   "cell_type": "code",
   "execution_count": 168,
   "id": "30f22e40-9dfd-40ec-b884-a30559399f42",
   "metadata": {},
   "outputs": [],
   "source": [
    "finalPreds = []\n",
    "for torch in pred_probs:\n",
    "    finalPreds.append(torch.data.tolist())\n",
    "pred = [x for xs in finalPreds for x in xs]\n",
    "\n",
    "submission_df = pd.DataFrame({\"ImageId\": np.arange(1,len(pred)+1), \"Label\": pred})\n",
    "submission_df.to_csv(\"submissionCNNpyTorch.csv\", index=False)"
   ]
  }
 ],
 "metadata": {
  "kernelspec": {
   "display_name": "Python [conda env:base] *",
   "language": "python",
   "name": "conda-base-py"
  },
  "language_info": {
   "codemirror_mode": {
    "name": "ipython",
    "version": 3
   },
   "file_extension": ".py",
   "mimetype": "text/x-python",
   "name": "python",
   "nbconvert_exporter": "python",
   "pygments_lexer": "ipython3",
   "version": "3.12.7"
  }
 },
 "nbformat": 4,
 "nbformat_minor": 5
}

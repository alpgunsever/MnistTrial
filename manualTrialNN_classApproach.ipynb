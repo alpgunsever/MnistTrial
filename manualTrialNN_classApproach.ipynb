{
 "cells": [
  {
   "cell_type": "markdown",
   "id": "2f76d022-2f62-4500-bed1-c35d0c1e436e",
   "metadata": {},
   "source": [
    "This implementation is taken from https://medium.com/data-science/math-neural-network-from-scratch-in-python-d6da9f29ce65"
   ]
  },
  {
   "cell_type": "code",
   "execution_count": 161,
   "id": "007ceca1-8e2c-4016-8040-364a5ea3f016",
   "metadata": {
    "scrolled": true
   },
   "outputs": [
    {
     "ename": "ModuleNotFoundError",
     "evalue": "No module named 'tensorflow'",
     "output_type": "error",
     "traceback": [
      "\u001b[1;31m---------------------------------------------------------------------------\u001b[0m",
      "\u001b[1;31mModuleNotFoundError\u001b[0m                       Traceback (most recent call last)",
      "Cell \u001b[1;32mIn[161], line 4\u001b[0m\n\u001b[0;32m      2\u001b[0m \u001b[38;5;28;01mimport\u001b[39;00m \u001b[38;5;21;01mos\u001b[39;00m\n\u001b[0;32m      3\u001b[0m \u001b[38;5;28;01mimport\u001b[39;00m \u001b[38;5;21;01mpandas\u001b[39;00m \u001b[38;5;28;01mas\u001b[39;00m \u001b[38;5;21;01mpd\u001b[39;00m\n\u001b[1;32m----> 4\u001b[0m \u001b[38;5;28;01mimport\u001b[39;00m \u001b[38;5;21;01mtensorflow\u001b[39;00m\n",
      "\u001b[1;31mModuleNotFoundError\u001b[0m: No module named 'tensorflow'"
     ]
    }
   ],
   "source": [
    "import numpy as np\n",
    "import os\n",
    "import pandas as pd\n",
    "import tensorflow"
   ]
  },
  {
   "cell_type": "code",
   "execution_count": 123,
   "id": "21a3760e-6bb2-4b37-ac94-579ec078adf3",
   "metadata": {},
   "outputs": [],
   "source": [
    "#Base class\n",
    "class Layer:\n",
    "    def __init__self(self):\n",
    "        self.input = None\n",
    "        self.output = None\n",
    "\n",
    "    def forward_propagation(self, input):\n",
    "        raise NotImplementedError\n",
    "\n",
    "    def backward_propagation(self, output_error, learning_rate):\n",
    "        raise NotImplementedError"
   ]
  },
  {
   "cell_type": "code",
   "execution_count": 125,
   "id": "aef98b35-abd3-4fc0-8df3-021c5dc341e7",
   "metadata": {},
   "outputs": [],
   "source": [
    "# Dense Layer class\n",
    "class Dense(Layer):\n",
    "    def __init__(self,input_size,output_size):\n",
    "        self.weights = np.random.rand(input_size, output_size) - 0.5\n",
    "        self.bias = np.random.rand(1, output_size) - 0.5\n",
    "\n",
    "    def forward_propagation(self,input_data):\n",
    "        self.input = input_data\n",
    "        self.output = np.dot(self.input,self.weights) + self.bias\n",
    "        return self.output\n",
    "\n",
    "    def backward_propagation(self,output_error, learning_rate):\n",
    "        input_error = np.dot(output_error, self.weights.T)\n",
    "        weights_error = np.dot(self.input.T, output_error)\n",
    "        #dBias = output_error\n",
    "\n",
    "        self.weights -= learning_rate * weights_error\n",
    "        self.bias -= learning_rate * output_error\n",
    "        return input_error"
   ]
  },
  {
   "cell_type": "code",
   "execution_count": 127,
   "id": "f4c715c6-c8e2-48d2-85a3-5365ab98dd59",
   "metadata": {},
   "outputs": [],
   "source": [
    "# Activation Layer class\n",
    "class Activation(Layer):\n",
    "    def __init__(self,activation,activation_prime):\n",
    "        self.activation = activation\n",
    "        self.activation_prime = activation_prime\n",
    "\n",
    "    def forward_propagation(self, input_data):\n",
    "        self.input = input_data\n",
    "        self.output = self.activation(self.input)\n",
    "        return self.output\n",
    "\n",
    "    def backward_propagation(self, output_error, learning_rate):\n",
    "        return self.activation_prime(self.input)*output_error"
   ]
  },
  {
   "cell_type": "code",
   "execution_count": 129,
   "id": "9b4ebb98-5fd7-4d41-a245-719cbb10d06b",
   "metadata": {},
   "outputs": [],
   "source": [
    "# Some activation functions here\n",
    "def tanh(x):\n",
    "    return np.tanh(x)\n",
    "\n",
    "def tanh_prime(x):\n",
    "    return 1-np.tanh(x)**2"
   ]
  },
  {
   "cell_type": "code",
   "execution_count": 131,
   "id": "32081b7a-8bbb-477d-abdf-d062f995e3b0",
   "metadata": {},
   "outputs": [],
   "source": [
    "# Loss function MSE\n",
    "def mse(y_true, y_pred):\n",
    "    return np.mean(np.power(y_true-y_pred,2))\n",
    "\n",
    "def mse_prime(y_true, y_pred):\n",
    "    return 2*(y_pred-y_true)/y_true.size"
   ]
  },
  {
   "cell_type": "code",
   "execution_count": 222,
   "id": "a6081f7b-793f-4b4d-a100-30862218d1f1",
   "metadata": {},
   "outputs": [],
   "source": [
    "# Network class\n",
    "class Network:\n",
    "    def __init__(self):\n",
    "        self.layers = []\n",
    "        self.loss = None\n",
    "        self.loss_prime = None\n",
    "\n",
    "    # add layer to network\n",
    "    def add(self,layer):\n",
    "        self.layers.append(layer)\n",
    "\n",
    "    # set loss to use\n",
    "    def use(self, loss, loss_prime):\n",
    "        self.loss = loss\n",
    "        self.loss_prime = loss_prime\n",
    "\n",
    "    def predict(self, input_data):\n",
    "        samples = len(input_data)\n",
    "        result = []\n",
    "\n",
    "        for i in range(samples):\n",
    "            # forward propagation\n",
    "            output = input_data[i]\n",
    "            for layer in self.layers:\n",
    "                output = layer.forward_propagation(output)\n",
    "            result.append(output)\n",
    "        return result\n",
    "\n",
    "    # train network\n",
    "    def fit(self, x_train, y_train, epochs, learning_rate):\n",
    "        samples= len(x_train)\n",
    "\n",
    "        for i in range(epochs):\n",
    "            err = 0\n",
    "            for j in range(samples):\n",
    "                output = x_train[j]\n",
    "                for layer in self.layers:\n",
    "                    output = layer.forward_propagation(output)\n",
    "\n",
    "                # compute loss\n",
    "                err += self.loss(y_train[j], output)\n",
    "        \n",
    "                # backward propagation\n",
    "                error = self.loss_prime(y_train[j],output)\n",
    "                for layer in reversed(self.layers):\n",
    "                    error = layer.backward_propagation(error, learning_rate)\n",
    "\n",
    "            # calculate average error on all samples\n",
    "            err /= samples\n",
    "            if i % 500 == 0:\n",
    "                print('epoch %d/%d   error=%f' % (i+1, epochs, err))"
   ]
  },
  {
   "cell_type": "code",
   "execution_count": 147,
   "id": "1a2fbc0c-ef04-4c54-b006-8423a4dad6c2",
   "metadata": {},
   "outputs": [
    {
     "name": "stdout",
     "output_type": "stream",
     "text": [
      "epoch 1/5000   error=0.783604\n",
      "epoch 501/5000   error=0.000799\n",
      "epoch 1001/5000   error=0.000265\n",
      "epoch 1501/5000   error=0.000153\n",
      "epoch 2001/5000   error=0.000106\n",
      "epoch 2501/5000   error=0.000083\n",
      "epoch 3001/5000   error=0.000066\n",
      "epoch 3501/5000   error=0.000055\n",
      "epoch 4001/5000   error=0.000047\n",
      "epoch 4501/5000   error=0.000041\n",
      "[array([[0.00031195]]), array([[0.99287769]]), array([[0.99025062]]), array([[0.0004473]])]\n"
     ]
    }
   ],
   "source": [
    "# Test with XOR\n",
    "# training data\n",
    "x_train = np.array([[[0,0]], [[0,1]], [[1,0]], [[1,1]]])\n",
    "y_train = np.array([[[0]], [[1]], [[1]], [[0]]])\n",
    "\n",
    "# network\n",
    "net = Network()\n",
    "net.add(Dense(2, 3))\n",
    "net.add(Activation(tanh, tanh_prime))\n",
    "net.add(Dense(3, 1))\n",
    "net.add(Activation(tanh, tanh_prime))\n",
    "\n",
    "# train\n",
    "net.use(mse, mse_prime)\n",
    "net.fit(x_train, y_train, epochs=5000, learning_rate=0.1)\n",
    "\n",
    "# test\n",
    "out = net.predict(x_train)\n",
    "print(out)"
   ]
  },
  {
   "cell_type": "code",
   "execution_count": 225,
   "id": "a8132b02-a13e-477e-83df-e1fc667d2372",
   "metadata": {},
   "outputs": [],
   "source": [
    "# Train with MNIST\n",
    "# get data\n",
    "dir = os.getcwd() + '\\\\data'\n",
    "df = pd.read_csv(dir+'\\\\train.csv')\n",
    "\n",
    "df = np.array(df).T\n",
    "m,n = df.shape\n",
    "\n",
    "yTrain = df[0]\n",
    "yTrain = np.eye(10)[yTrain]\n",
    "\n",
    "xTrain = df[1:n].T\n",
    "xTrain = xTrain.reshape(xTrain.shape[0], 1, 28*28)\n",
    "x_train = x_train.astype('float32')\n",
    "x_train /= 255"
   ]
  },
  {
   "cell_type": "code",
   "execution_count": 227,
   "id": "7bbaf078-e40a-4dda-9486-1ea84b412008",
   "metadata": {},
   "outputs": [
    {
     "name": "stdout",
     "output_type": "stream",
     "text": [
      "epoch 1/10   error=0.113038\n",
      "epoch 2/10   error=0.095842\n",
      "epoch 3/10   error=0.087705\n",
      "epoch 4/10   error=0.084090\n",
      "epoch 5/10   error=0.084980\n",
      "epoch 6/10   error=0.080099\n",
      "epoch 7/10   error=0.078800\n",
      "epoch 8/10   error=0.079448\n",
      "epoch 9/10   error=0.078286\n",
      "epoch 10/10   error=0.074685\n"
     ]
    }
   ],
   "source": [
    "# Network\n",
    "net = Network()\n",
    "net.add(Dense(28*28, 100))                # input_shape=(1, 28*28)    ;   output_shape=(1, 100)\n",
    "net.add(Activation(tanh, tanh_prime))\n",
    "net.add(Dense(100, 50))                   # input_shape=(1, 100)      ;   output_shape=(1, 50)\n",
    "net.add(Activation(tanh, tanh_prime))\n",
    "net.add(Dense(50, 10))                    # input_shape=(1, 50)       ;   output_shape=(1, 10)\n",
    "net.add(Activation(tanh, tanh_prime))\n",
    "\n",
    "net.use(mse, mse_prime)\n",
    "net.fit(xTrain, yTrain, epochs=5000, learning_rate=0.1)"
   ]
  },
  {
   "cell_type": "code",
   "execution_count": null,
   "id": "15d7c626-fa89-4611-b81b-e9fb6a71cc51",
   "metadata": {},
   "outputs": [],
   "source": []
  }
 ],
 "metadata": {
  "kernelspec": {
   "display_name": "Python [conda env:base] *",
   "language": "python",
   "name": "conda-base-py"
  },
  "language_info": {
   "codemirror_mode": {
    "name": "ipython",
    "version": 3
   },
   "file_extension": ".py",
   "mimetype": "text/x-python",
   "name": "python",
   "nbconvert_exporter": "python",
   "pygments_lexer": "ipython3",
   "version": "3.12.7"
  }
 },
 "nbformat": 4,
 "nbformat_minor": 5
}
